{
  "cells": [
    {
      "cell_type": "code",
      "execution_count": null,
      "metadata": {
        "id": "GVJM0wObv4-Z"
      },
      "outputs": [],
      "source": [
        "import pandas as pd\n",
        "import numpy as np\n",
        "import matplotlib.pyplot as plt\n",
        "from sklearn.utils import shuffle\n",
        "from sklearn.model_selection import train_test_split\n",
        "from sklearn.utils import class_weight\n",
        "\n",
        "from sklearn.metrics import confusion_matrix\n",
        "import seaborn as sns\n",
        "from sklearn.metrics import classification_report, confusion_matrix\n",
        "from sklearn.metrics import accuracy_score"
      ]
    },
    {
      "cell_type": "markdown",
      "source": [
        "Method to read the json files"
      ],
      "metadata": {
        "id": "nBRn4ZL-Wt8k"
      }
    },
    {
      "cell_type": "code",
      "execution_count": null,
      "metadata": {
        "id": "2SoaOX6y_ah8"
      },
      "outputs": [],
      "source": [
        "import pandas as pd\n",
        "import glob\n",
        "\n",
        "def readFiles(path):\n",
        "    dfs = [] # an empty list to store the data frames\n",
        "    for root, dirs,files in os.walk(path):\n",
        "      files = glob.glob(os.path.join(root, '*.json'))\n",
        "    for f in files:\n",
        "      dfs.append(os.path.abspath(f)) # concatenate all the data frames in the list.\n",
        "    return dfs"
      ]
    },
    {
      "cell_type": "code",
      "source": [
        "train_json = readFiles(\"/content/drive/MyDrive/713 - Pattern /CLEF2023/task_3A/data/task_3A/train_json\")"
      ],
      "metadata": {
        "id": "0qreusJyRFRz"
      },
      "execution_count": null,
      "outputs": []
    },
    {
      "cell_type": "code",
      "execution_count": null,
      "metadata": {
        "id": "25yMFInTAbvO"
      },
      "outputs": [],
      "source": [
        "dev_json=readFiles(\"/content/drive/MyDrive/713 - Pattern /CLEF2023/task_3A/data/task_3A/dev_json\")"
      ]
    },
    {
      "cell_type": "code",
      "execution_count": null,
      "metadata": {
        "colab": {
          "base_uri": "https://localhost:8080/",
          "height": 53
        },
        "id": "KQhMiOuSApRv",
        "outputId": "f85a13e4-67e1-4155-df03-2f0feb6ba6b9"
      },
      "outputs": [
        {
          "output_type": "execute_result",
          "data": {
            "text/plain": [
              "'/content/drive/MyDrive/713 - Pattern /CLEF2023/task_3A/data/task_3A/dev_json/208b5d6a6b5c9d9e.json'"
            ],
            "application/vnd.google.colaboratory.intrinsic+json": {
              "type": "string"
            }
          },
          "metadata": {},
          "execution_count": 51
        }
      ],
      "source": [
        "dev_json[0] # took all the file path in dfs"
      ]
    },
    {
      "cell_type": "code",
      "source": [
        "filepath = dev_json[0]"
      ],
      "metadata": {
        "id": "FhGSC_IBDhp4"
      },
      "execution_count": null,
      "outputs": []
    },
    {
      "cell_type": "markdown",
      "source": [
        "Begining the json process\n",
        "- single json to pandas"
      ],
      "metadata": {
        "id": "_dhoGrKGESMO"
      }
    },
    {
      "cell_type": "code",
      "source": [
        "df = pd.read_json(filepath,  typ=\"series\") # converting single path to df "
      ],
      "metadata": {
        "id": "Lmp_FCdCDq3Y"
      },
      "execution_count": null,
      "outputs": []
    },
    {
      "cell_type": "code",
      "source": [
        "df.head()"
      ],
      "metadata": {
        "colab": {
          "base_uri": "https://localhost:8080/"
        },
        "id": "pqW-hGYEEjYt",
        "outputId": "b9b13f7e-13e6-4ec2-a5ef-d37e43dcbec2"
      },
      "execution_count": null,
      "outputs": [
        {
          "output_type": "execute_result",
          "data": {
            "text/plain": [
              "id                                             208b5d6a6b5c9d9e\n",
              "title         Court to weigh in on Mississippi abortion ban ...\n",
              "content       The Supreme Court on Monday set the stage for ...\n",
              "label                                                         1\n",
              "label_text                                               center\n",
              "dtype: object"
            ]
          },
          "metadata": {},
          "execution_count": 45
        }
      ]
    },
    {
      "cell_type": "markdown",
      "source": [
        "Creating a dictionary of the json data\n",
        "- multiple json file to df\n"
      ],
      "metadata": {
        "id": "Xxr5ZruGMuIC"
      }
    },
    {
      "cell_type": "code",
      "source": [
        "dev_json_list = []\n",
        "for  f in dev_json:\n",
        "  with open(f) as doc:\n",
        "    exp =  json.load(doc)\n",
        "    dev_json_list.append(exp)"
      ],
      "metadata": {
        "id": "XW3jV0KpGsfO"
      },
      "execution_count": null,
      "outputs": []
    },
    {
      "cell_type": "code",
      "source": [
        "train_json_list = []\n",
        "for  f in train_json:\n",
        "  with open(f) as doc:\n",
        "    exp =  json.load(doc)\n",
        "    train_json_list.append(exp)"
      ],
      "metadata": {
        "id": "wyUxZ7sgRUBP"
      },
      "execution_count": null,
      "outputs": []
    },
    {
      "cell_type": "code",
      "source": [
        "print(len(dev_json_list))"
      ],
      "metadata": {
        "colab": {
          "base_uri": "https://localhost:8080/"
        },
        "id": "rIXsMvQFMNLn",
        "outputId": "54509e37-c62c-4c92-cdc1-28770e869efe"
      },
      "execution_count": null,
      "outputs": [
        {
          "output_type": "stream",
          "name": "stdout",
          "text": [
            "5008\n"
          ]
        }
      ]
    },
    {
      "cell_type": "code",
      "source": [
        "print(len(train_json_list))"
      ],
      "metadata": {
        "colab": {
          "base_uri": "https://localhost:8080/"
        },
        "id": "iCjzshaiRWI6",
        "outputId": "d8a3e957-6d2f-4a16-b77f-131f7c4380ac"
      },
      "execution_count": null,
      "outputs": [
        {
          "output_type": "stream",
          "name": "stdout",
          "text": [
            "13058\n"
          ]
        }
      ]
    },
    {
      "cell_type": "code",
      "source": [
        "dev_json_list[:20]"
      ],
      "metadata": {
        "id": "-Qu_at1EHJs8",
        "colab": {
          "base_uri": "https://localhost:8080/"
        },
        "outputId": "d6dca6e9-a99d-4e59-dd84-51a24e5eadb6"
      },
      "execution_count": null,
      "outputs": [
        {
          "output_type": "execute_result",
          "data": {
            "text/plain": [
              "[{'id': '208b5d6a6b5c9d9e',\n",
              "  'title': 'Court to weigh in on Mississippi abortion ban intended to challenge Roe v. Wade',\n",
              "  'content': 'The Supreme Court on Monday set the stage for a major ruling next year on abortion – one that could upend the Supreme Court’s landmark decisions in Roe v. Wade and Planned Parenthood v. Casey, in which the court ruled that the Constitution protects the right to have an abortion before a fetus becomes viable. The court granted review in Dobbs v. Jackson Women’s Health Organization, a challenge to the constitutionality of a Mississippi law that (with limited exceptions) bars abortions after the 15th week of pregnancy.\\n\\nThe decision to...',\n",
              "  'label': 1,\n",
              "  'label_text': 'center'},\n",
              " {'id': '205db17d86845ee8',\n",
              "  'title': \"The Trump Support You Don't See\",\n",
              "  'content': \"OPINION\\n\\nEveryone can see President Donald Trump's rallies. In the final days of the campaign, he is jetting from swing state to swing state, drawing big crowds to outdoor airport events as he makes his closing argument for reelection.\\n\\nBut there are also pro-Trump events that aren't covered in the media. A case in point was a recent road rally, with thousands of Trump supporters jumping in their cars and pickup trucks to drive through parts of Pennsylvania, Ohio, and West Virginia. Organizers estimated the rally included about 2,000 vehicles, each...\",\n",
              "  'label': 2,\n",
              "  'label_text': 'right'},\n",
              " {'id': '247cc65c89366ab0',\n",
              "  'title': 'Mulling 2016 run, Biden speaks with top labor leader',\n",
              "  'content': 'Harold A. Schaitberger, the president of the powerful International Association of Fire Fighters, spoke Friday morning with Vice President Joe Biden, who strongly indicated in the phone conversation that he is planning to run for president, a source familiar with the discussion said.\\n\\nThe IAFF is one of the most influential labor groups in the U.S. Schaitberger declined to comment on the call, saying he does not discuss private conversations.\\n\\nBut the source said Biden talked about campaign strategy with Schaitb',\n",
              "  'label': 0,\n",
              "  'label_text': 'left'},\n",
              " {'id': '2484c55e66b43bba',\n",
              "  'title': 'OPINION: The Pope is wrong on religious speech',\n",
              "  'content': \"OPINION\\n\\nThe popular Pope Francis is taking some hits himself after some lighthearted comments that included a pretend punch to a colleague. The comments came while trying to make the point that free speech should have some limits, including on the right to insult another's faith.\",\n",
              "  'label': 0,\n",
              "  'label_text': 'left'},\n",
              " {'id': '24690573f425d262',\n",
              "  'title': 'Report: Trump Upset With Aides Over Delegate Failures',\n",
              "  'content': 'Analysis\\n\\nIs This the End of the Permanent Candidate Class?',\n",
              "  'label': 2,\n",
              "  'label_text': 'right'},\n",
              " {'id': '2405712bb47e1c81',\n",
              "  'title': 'Paris Attacks Suspect Was Monitored by Western Allies Seeking to Kill Him',\n",
              "  'content': 'An Islamic State operative suspected of helping plan the Paris attacks had been monitored in Syria by Western allies seeking to kill him in an airstrike, but they couldn’t locate him in the weeks before the plot was carried out, two Western security officials said.',\n",
              "  'label': 1,\n",
              "  'label_text': 'center'},\n",
              " {'id': '23e2937e91473d1d',\n",
              "  'title': 'News Corp, Google announce three-year deal to distribute journalism in exchange for payments',\n",
              "  'content': 'News Corp announced Wednesday that it has agreed to a multi-year partnership with Google, a move the company said would yield \"substantial benefits for journalism and society.\"\\n\\nThe agreement, which News Corp called “historic,” will provide “trusted journalism” from News Corp\\'s news sites from around the world “in return for significant payments by Google.”\\n\\nNews Corp publications joining Google News Showcase from the United States will be The Wall Street Journal, Barron’s, MarketWatch and the New York Post.',\n",
              "  'label': 2,\n",
              "  'label_text': 'right'},\n",
              " {'id': '23fdeefb1aa33930',\n",
              "  'title': 'California becomes heart of anti-Trump resistance',\n",
              "  'content': 'California’s political leaders are gearing up to lead progressive resistance to President-elect Donald Trump.\\n\\nThe Golden State, where Hillary Clinton beat Trump by more than 4 million votes, is a center of political power for the left.',\n",
              "  'label': 1,\n",
              "  'label_text': 'center'},\n",
              " {'id': '23c562ec6d3354a4',\n",
              "  'title': 'Cleveland Police Ban Syringes in Last Hours of the GOP Convention',\n",
              "  'content': 'News\\n\\nWhat to expect as Democrats retain the Senate for the next two years',\n",
              "  'label': 2,\n",
              "  'label_text': 'right'},\n",
              " {'id': '23c211a77edce47d',\n",
              "  'title': 'Biden White House just put out a framework on regulating crypto — here’s what’s in it',\n",
              "  'content': 'The Biden White House has just released its first-ever framework on what crypto regulation in the U.S. should look like — including ways in which the financial services industry should evolve to make borderless transactions easier, and how to crack down on fraud in the digital asset space.\\n\\nThe new directives tap the muscle of existing regulators such as the Securities and Exchange Commission and the Commodity Futures Trading Commission, but nobody’s mandating anything yet. The long-awaited direction from Washington has, however, captured the attention of both the crypto industry...',\n",
              "  'label': 1,\n",
              "  'label_text': 'center'},\n",
              " {'id': '23bdc9b77c210457',\n",
              "  'title': 'San Francisco Pride voted to ban Google and YouTube from its parade',\n",
              "  'content': 'ANALYSIS\\n\\nGoogle and YouTube may no longer be welcome at one of the world’s largest LGBTQ Pride Parades.\\n\\nLast week, members of the organization San Francisco Pride (SF Pride) voted to ban Google from participating in future celebrations, saying that the company doesn’t do enough to protect LGBTQ persons on its platforms, particularly those who are the target of harassment and hate speech on YouTube. The move is a significant shift in attitude towards a company that historically has been regarded as a corporate leader in its support of the LGBTQ...',\n",
              "  'label': 0,\n",
              "  'label_text': 'left'},\n",
              " {'id': '23cc497b74762c20',\n",
              "  'title': 'Obama Stays Silent On Democrats Mired In Scandals',\n",
              "  'content': \"When President Barack Obama ran for re-election last year, he and his advisers were quick to condemn comments from Republicans that were deemed offensive or demeaning to women.\\n\\nBut now, with two prominent members of Obama's Democratic Party admitting to lewd online behavior and facing allegations of sexual harassment, the White House is conspicuously silent.\\n\\nRepublicans say that smacks of hypocrisy. But White House officials draw a distinction, saying Obama's comments last year were in response to the policy implications of the controversial views espoused by the two Republicans who...\",\n",
              "  'label': 0,\n",
              "  'label_text': 'left'},\n",
              " {'id': '23ca307ad566115c',\n",
              "  'title': 'NSA secretly tapped Google, Yahoo data centers worldwide, new report claims',\n",
              "  'content': 'Massive cloud networks from companies like Google and Yahoo cache and serve up much of the data on the Internet -- and the NSA has secretly tapped into the unencrypted links behind those company’s enormous servers, according to a new report from the Washington Post.\\n\\nBy',\n",
              "  'label': 2,\n",
              "  'label_text': 'right'},\n",
              " {'id': '23cd587b755d76af',\n",
              "  'title': 'ECB Raises Emergency Lending to Greek Banks',\n",
              "  'content': 'The European Central Bank Thursday raised its emergency lending to Greek banks by €900 million ($989 million), a move that could pave the way for the country’s lenders to reopen.',\n",
              "  'label': 1,\n",
              "  'label_text': 'center'},\n",
              " {'id': '23df32835018d82f',\n",
              "  'title': 'GOP backs off fight on debt limit',\n",
              "  'content': 'News\\n\\nThe fate of the world economy may depend on what happens to a company most Americans have never heard of',\n",
              "  'label': 1,\n",
              "  'label_text': 'center'},\n",
              " {'id': '23b40eccea4af3a9',\n",
              "  'title': \"Two Reasons Americans Should Care About Canada's Election Debate\",\n",
              "  'content': \"The United States wasn't the only country that hosted a major televised debate Thursday night between candidates vying to serve as the next head of government. In Toronto, four national party leaders gathered to participate in the first debate of Canada's race for prime minister, which pitted Conservative Party leader Stephen Harper, who has served as the PM since 2006, against leaders from three other Canadian political parties: Elizabeth May of the Green Party, Justin Trudeau of the Liberal Party and Thomas Mulcair of the New Democratic Party (NDP).\\n\\nThe...\",\n",
              "  'label': 0,\n",
              "  'label_text': 'left'},\n",
              " {'id': '23a4fd36d8e11cf9',\n",
              "  'title': 'McDonalds Hires Foreign H-1Bs, Fires 70 American Accounting Staff',\n",
              "  'content': 'News\\n\\nThe fate of the world economy may depend on what happens to a company most Americans have never heard of',\n",
              "  'label': 2,\n",
              "  'label_text': 'right'},\n",
              " {'id': '23ae0d64a9b69c64',\n",
              "  'title': 'GOP sees pressure on Pelosi as key to pandemic relief deal',\n",
              "  'content': 'Senate Republicans see putting pressure on Speaker Nancy Pelosi (D-Calif.) as the key to getting a deal on a coronavirus relief bill before the elections and are counting on vulnerable House Democrats to move the Speaker off her demand for a package costing more than $2 trillion.\\n\\nGOP lawmakers say last week’s procedural vote to advance a $500 billion to $700 billion relief plan — which all but one Republican senator supported and all Democrats opposed — was designed to give political cover to their vulnerable incumbents and put House...',\n",
              "  'label': 1,\n",
              "  'label_text': 'center'},\n",
              " {'id': '234bae5f32ebc559',\n",
              "  'title': 'These Photos Show The Terrifying Impact Of Hurricane Ida',\n",
              "  'content': 'Hurricane Ida battered Louisiana, the Gulf Coast, and Cuba late last week and over the weekend, leaving at least one person dead and a million people without power. The storm brought 150 mph winds, damaging buildings, uprooting trees and power lines, and causing 911 outages.\\n\\nHere are some photos that show the damage the storm left in its wake.\\n\\nWaves crash against the New Canal Lighthouse on Lake Pontchartrain as the effects of Hurricane Ida begin to be felt in New Orleans, Aug. 29, 2021.\\n\\nA man passes by a...',\n",
              "  'label': 0,\n",
              "  'label_text': 'left'},\n",
              " {'id': '2373da2de37442c1',\n",
              "  'title': 'Fact-Checking the President’s Remarks on Tax Policy',\n",
              "  'content': 'ANALYSIS\\n\\nPresident Biden delivered his State of the Union address on March 1. Among the laundry list of new and ongoing spending programs that he touted, the president renewed his call for higher taxes on the rich:\\n\\nI’m not looking to punish anybody, but let’s make corporations and wealthy Americans start paying their fair share. . . . And that’s why I’ve proposed closing loopholes for the very wealthy who don’t pay — who pay a lower tax rate than a teacher and a firefighter.\\n\\nThat’s just about exactly what President Obama said in...',\n",
              "  'label': 2,\n",
              "  'label_text': 'right'}]"
            ]
          },
          "metadata": {},
          "execution_count": 59
        }
      ]
    },
    {
      "cell_type": "code",
      "source": [
        "train_df = pd.DataFrame(train_json_list)\n",
        "train_df.head()"
      ],
      "metadata": {
        "colab": {
          "base_uri": "https://localhost:8080/",
          "height": 337
        },
        "id": "aQb0R2fpRf9Q",
        "outputId": "dd7c7dbf-2ee8-496e-dba7-73783229558e"
      },
      "execution_count": null,
      "outputs": [
        {
          "output_type": "execute_result",
          "data": {
            "text/plain": [
              "                 id                                              title  \\\n",
              "0  00269b317149c6dc  Madison Cawthorn: Trump-backed Gen Z congressm...   \n",
              "1  002355e9bb499a7f                Campaign Cash Is Buying Tons Of Ads   \n",
              "2  002317b9ab7d7a27  Jeb Bush, Ted Cruz Back Indiana’s Religious-Ob...   \n",
              "3  0027576c4c367043  Portland mayor praises police after 'largely p...   \n",
              "4  002502c12b420af5  Why America’s big cities have become the presi...   \n",
              "\n",
              "                                             content  label label_text  \n",
              "0  To his fans, he was a fresh-faced outsider ele...      1     center  \n",
              "1  Iowa's airwaves are already jammed with ads, m...      0       left  \n",
              "2  As Indiana lawmakers moved to clarify the stat...      1     center  \n",
              "3  The mayor of Portland, Ore., said Saturday nig...      2      right  \n",
              "4  Critics see President Trump’s attacks on U.S. ...      1     center  "
            ],
            "text/html": [
              "\n",
              "  <div id=\"df-d2958e35-a627-43b5-8977-84135d5cc5f3\">\n",
              "    <div class=\"colab-df-container\">\n",
              "      <div>\n",
              "<style scoped>\n",
              "    .dataframe tbody tr th:only-of-type {\n",
              "        vertical-align: middle;\n",
              "    }\n",
              "\n",
              "    .dataframe tbody tr th {\n",
              "        vertical-align: top;\n",
              "    }\n",
              "\n",
              "    .dataframe thead th {\n",
              "        text-align: right;\n",
              "    }\n",
              "</style>\n",
              "<table border=\"1\" class=\"dataframe\">\n",
              "  <thead>\n",
              "    <tr style=\"text-align: right;\">\n",
              "      <th></th>\n",
              "      <th>id</th>\n",
              "      <th>title</th>\n",
              "      <th>content</th>\n",
              "      <th>label</th>\n",
              "      <th>label_text</th>\n",
              "    </tr>\n",
              "  </thead>\n",
              "  <tbody>\n",
              "    <tr>\n",
              "      <th>0</th>\n",
              "      <td>00269b317149c6dc</td>\n",
              "      <td>Madison Cawthorn: Trump-backed Gen Z congressm...</td>\n",
              "      <td>To his fans, he was a fresh-faced outsider ele...</td>\n",
              "      <td>1</td>\n",
              "      <td>center</td>\n",
              "    </tr>\n",
              "    <tr>\n",
              "      <th>1</th>\n",
              "      <td>002355e9bb499a7f</td>\n",
              "      <td>Campaign Cash Is Buying Tons Of Ads</td>\n",
              "      <td>Iowa's airwaves are already jammed with ads, m...</td>\n",
              "      <td>0</td>\n",
              "      <td>left</td>\n",
              "    </tr>\n",
              "    <tr>\n",
              "      <th>2</th>\n",
              "      <td>002317b9ab7d7a27</td>\n",
              "      <td>Jeb Bush, Ted Cruz Back Indiana’s Religious-Ob...</td>\n",
              "      <td>As Indiana lawmakers moved to clarify the stat...</td>\n",
              "      <td>1</td>\n",
              "      <td>center</td>\n",
              "    </tr>\n",
              "    <tr>\n",
              "      <th>3</th>\n",
              "      <td>0027576c4c367043</td>\n",
              "      <td>Portland mayor praises police after 'largely p...</td>\n",
              "      <td>The mayor of Portland, Ore., said Saturday nig...</td>\n",
              "      <td>2</td>\n",
              "      <td>right</td>\n",
              "    </tr>\n",
              "    <tr>\n",
              "      <th>4</th>\n",
              "      <td>002502c12b420af5</td>\n",
              "      <td>Why America’s big cities have become the presi...</td>\n",
              "      <td>Critics see President Trump’s attacks on U.S. ...</td>\n",
              "      <td>1</td>\n",
              "      <td>center</td>\n",
              "    </tr>\n",
              "  </tbody>\n",
              "</table>\n",
              "</div>\n",
              "      <button class=\"colab-df-convert\" onclick=\"convertToInteractive('df-d2958e35-a627-43b5-8977-84135d5cc5f3')\"\n",
              "              title=\"Convert this dataframe to an interactive table.\"\n",
              "              style=\"display:none;\">\n",
              "        \n",
              "  <svg xmlns=\"http://www.w3.org/2000/svg\" height=\"24px\"viewBox=\"0 0 24 24\"\n",
              "       width=\"24px\">\n",
              "    <path d=\"M0 0h24v24H0V0z\" fill=\"none\"/>\n",
              "    <path d=\"M18.56 5.44l.94 2.06.94-2.06 2.06-.94-2.06-.94-.94-2.06-.94 2.06-2.06.94zm-11 1L8.5 8.5l.94-2.06 2.06-.94-2.06-.94L8.5 2.5l-.94 2.06-2.06.94zm10 10l.94 2.06.94-2.06 2.06-.94-2.06-.94-.94-2.06-.94 2.06-2.06.94z\"/><path d=\"M17.41 7.96l-1.37-1.37c-.4-.4-.92-.59-1.43-.59-.52 0-1.04.2-1.43.59L10.3 9.45l-7.72 7.72c-.78.78-.78 2.05 0 2.83L4 21.41c.39.39.9.59 1.41.59.51 0 1.02-.2 1.41-.59l7.78-7.78 2.81-2.81c.8-.78.8-2.07 0-2.86zM5.41 20L4 18.59l7.72-7.72 1.47 1.35L5.41 20z\"/>\n",
              "  </svg>\n",
              "      </button>\n",
              "      \n",
              "  <style>\n",
              "    .colab-df-container {\n",
              "      display:flex;\n",
              "      flex-wrap:wrap;\n",
              "      gap: 12px;\n",
              "    }\n",
              "\n",
              "    .colab-df-convert {\n",
              "      background-color: #E8F0FE;\n",
              "      border: none;\n",
              "      border-radius: 50%;\n",
              "      cursor: pointer;\n",
              "      display: none;\n",
              "      fill: #1967D2;\n",
              "      height: 32px;\n",
              "      padding: 0 0 0 0;\n",
              "      width: 32px;\n",
              "    }\n",
              "\n",
              "    .colab-df-convert:hover {\n",
              "      background-color: #E2EBFA;\n",
              "      box-shadow: 0px 1px 2px rgba(60, 64, 67, 0.3), 0px 1px 3px 1px rgba(60, 64, 67, 0.15);\n",
              "      fill: #174EA6;\n",
              "    }\n",
              "\n",
              "    [theme=dark] .colab-df-convert {\n",
              "      background-color: #3B4455;\n",
              "      fill: #D2E3FC;\n",
              "    }\n",
              "\n",
              "    [theme=dark] .colab-df-convert:hover {\n",
              "      background-color: #434B5C;\n",
              "      box-shadow: 0px 1px 3px 1px rgba(0, 0, 0, 0.15);\n",
              "      filter: drop-shadow(0px 1px 2px rgba(0, 0, 0, 0.3));\n",
              "      fill: #FFFFFF;\n",
              "    }\n",
              "  </style>\n",
              "\n",
              "      <script>\n",
              "        const buttonEl =\n",
              "          document.querySelector('#df-d2958e35-a627-43b5-8977-84135d5cc5f3 button.colab-df-convert');\n",
              "        buttonEl.style.display =\n",
              "          google.colab.kernel.accessAllowed ? 'block' : 'none';\n",
              "\n",
              "        async function convertToInteractive(key) {\n",
              "          const element = document.querySelector('#df-d2958e35-a627-43b5-8977-84135d5cc5f3');\n",
              "          const dataTable =\n",
              "            await google.colab.kernel.invokeFunction('convertToInteractive',\n",
              "                                                     [key], {});\n",
              "          if (!dataTable) return;\n",
              "\n",
              "          const docLinkHtml = 'Like what you see? Visit the ' +\n",
              "            '<a target=\"_blank\" href=https://colab.research.google.com/notebooks/data_table.ipynb>data table notebook</a>'\n",
              "            + ' to learn more about interactive tables.';\n",
              "          element.innerHTML = '';\n",
              "          dataTable['output_type'] = 'display_data';\n",
              "          await google.colab.output.renderOutput(dataTable, element);\n",
              "          const docLink = document.createElement('div');\n",
              "          docLink.innerHTML = docLinkHtml;\n",
              "          element.appendChild(docLink);\n",
              "        }\n",
              "      </script>\n",
              "    </div>\n",
              "  </div>\n",
              "  "
            ]
          },
          "metadata": {},
          "execution_count": 73
        }
      ]
    },
    {
      "cell_type": "code",
      "source": [
        "dev_df = pd.DataFrame(dev_json_list)\n",
        "dev_df.head()"
      ],
      "metadata": {
        "id": "2RIuBqL5HNSV",
        "colab": {
          "base_uri": "https://localhost:8080/",
          "height": 337
        },
        "outputId": "80fb3cbf-1bb5-4826-b4f7-be6228fea9d1"
      },
      "execution_count": null,
      "outputs": [
        {
          "output_type": "execute_result",
          "data": {
            "text/plain": [
              "                 id                                              title  \\\n",
              "0  208b5d6a6b5c9d9e  Court to weigh in on Mississippi abortion ban ...   \n",
              "1  205db17d86845ee8                    The Trump Support You Don't See   \n",
              "2  247cc65c89366ab0  Mulling 2016 run, Biden speaks with top labor ...   \n",
              "3  2484c55e66b43bba     OPINION: The Pope is wrong on religious speech   \n",
              "4  24690573f425d262  Report: Trump Upset With Aides Over Delegate F...   \n",
              "\n",
              "                                             content  label label_text  \n",
              "0  The Supreme Court on Monday set the stage for ...      1     center  \n",
              "1  OPINION\\n\\nEveryone can see President Donald T...      2      right  \n",
              "2  Harold A. Schaitberger, the president of the p...      0       left  \n",
              "3  OPINION\\n\\nThe popular Pope Francis is taking ...      0       left  \n",
              "4  Analysis\\n\\nIs This the End of the Permanent C...      2      right  "
            ],
            "text/html": [
              "\n",
              "  <div id=\"df-1446877c-109a-4ce5-b42c-937a1f4c52e7\">\n",
              "    <div class=\"colab-df-container\">\n",
              "      <div>\n",
              "<style scoped>\n",
              "    .dataframe tbody tr th:only-of-type {\n",
              "        vertical-align: middle;\n",
              "    }\n",
              "\n",
              "    .dataframe tbody tr th {\n",
              "        vertical-align: top;\n",
              "    }\n",
              "\n",
              "    .dataframe thead th {\n",
              "        text-align: right;\n",
              "    }\n",
              "</style>\n",
              "<table border=\"1\" class=\"dataframe\">\n",
              "  <thead>\n",
              "    <tr style=\"text-align: right;\">\n",
              "      <th></th>\n",
              "      <th>id</th>\n",
              "      <th>title</th>\n",
              "      <th>content</th>\n",
              "      <th>label</th>\n",
              "      <th>label_text</th>\n",
              "    </tr>\n",
              "  </thead>\n",
              "  <tbody>\n",
              "    <tr>\n",
              "      <th>0</th>\n",
              "      <td>208b5d6a6b5c9d9e</td>\n",
              "      <td>Court to weigh in on Mississippi abortion ban ...</td>\n",
              "      <td>The Supreme Court on Monday set the stage for ...</td>\n",
              "      <td>1</td>\n",
              "      <td>center</td>\n",
              "    </tr>\n",
              "    <tr>\n",
              "      <th>1</th>\n",
              "      <td>205db17d86845ee8</td>\n",
              "      <td>The Trump Support You Don't See</td>\n",
              "      <td>OPINION\\n\\nEveryone can see President Donald T...</td>\n",
              "      <td>2</td>\n",
              "      <td>right</td>\n",
              "    </tr>\n",
              "    <tr>\n",
              "      <th>2</th>\n",
              "      <td>247cc65c89366ab0</td>\n",
              "      <td>Mulling 2016 run, Biden speaks with top labor ...</td>\n",
              "      <td>Harold A. Schaitberger, the president of the p...</td>\n",
              "      <td>0</td>\n",
              "      <td>left</td>\n",
              "    </tr>\n",
              "    <tr>\n",
              "      <th>3</th>\n",
              "      <td>2484c55e66b43bba</td>\n",
              "      <td>OPINION: The Pope is wrong on religious speech</td>\n",
              "      <td>OPINION\\n\\nThe popular Pope Francis is taking ...</td>\n",
              "      <td>0</td>\n",
              "      <td>left</td>\n",
              "    </tr>\n",
              "    <tr>\n",
              "      <th>4</th>\n",
              "      <td>24690573f425d262</td>\n",
              "      <td>Report: Trump Upset With Aides Over Delegate F...</td>\n",
              "      <td>Analysis\\n\\nIs This the End of the Permanent C...</td>\n",
              "      <td>2</td>\n",
              "      <td>right</td>\n",
              "    </tr>\n",
              "  </tbody>\n",
              "</table>\n",
              "</div>\n",
              "      <button class=\"colab-df-convert\" onclick=\"convertToInteractive('df-1446877c-109a-4ce5-b42c-937a1f4c52e7')\"\n",
              "              title=\"Convert this dataframe to an interactive table.\"\n",
              "              style=\"display:none;\">\n",
              "        \n",
              "  <svg xmlns=\"http://www.w3.org/2000/svg\" height=\"24px\"viewBox=\"0 0 24 24\"\n",
              "       width=\"24px\">\n",
              "    <path d=\"M0 0h24v24H0V0z\" fill=\"none\"/>\n",
              "    <path d=\"M18.56 5.44l.94 2.06.94-2.06 2.06-.94-2.06-.94-.94-2.06-.94 2.06-2.06.94zm-11 1L8.5 8.5l.94-2.06 2.06-.94-2.06-.94L8.5 2.5l-.94 2.06-2.06.94zm10 10l.94 2.06.94-2.06 2.06-.94-2.06-.94-.94-2.06-.94 2.06-2.06.94z\"/><path d=\"M17.41 7.96l-1.37-1.37c-.4-.4-.92-.59-1.43-.59-.52 0-1.04.2-1.43.59L10.3 9.45l-7.72 7.72c-.78.78-.78 2.05 0 2.83L4 21.41c.39.39.9.59 1.41.59.51 0 1.02-.2 1.41-.59l7.78-7.78 2.81-2.81c.8-.78.8-2.07 0-2.86zM5.41 20L4 18.59l7.72-7.72 1.47 1.35L5.41 20z\"/>\n",
              "  </svg>\n",
              "      </button>\n",
              "      \n",
              "  <style>\n",
              "    .colab-df-container {\n",
              "      display:flex;\n",
              "      flex-wrap:wrap;\n",
              "      gap: 12px;\n",
              "    }\n",
              "\n",
              "    .colab-df-convert {\n",
              "      background-color: #E8F0FE;\n",
              "      border: none;\n",
              "      border-radius: 50%;\n",
              "      cursor: pointer;\n",
              "      display: none;\n",
              "      fill: #1967D2;\n",
              "      height: 32px;\n",
              "      padding: 0 0 0 0;\n",
              "      width: 32px;\n",
              "    }\n",
              "\n",
              "    .colab-df-convert:hover {\n",
              "      background-color: #E2EBFA;\n",
              "      box-shadow: 0px 1px 2px rgba(60, 64, 67, 0.3), 0px 1px 3px 1px rgba(60, 64, 67, 0.15);\n",
              "      fill: #174EA6;\n",
              "    }\n",
              "\n",
              "    [theme=dark] .colab-df-convert {\n",
              "      background-color: #3B4455;\n",
              "      fill: #D2E3FC;\n",
              "    }\n",
              "\n",
              "    [theme=dark] .colab-df-convert:hover {\n",
              "      background-color: #434B5C;\n",
              "      box-shadow: 0px 1px 3px 1px rgba(0, 0, 0, 0.15);\n",
              "      filter: drop-shadow(0px 1px 2px rgba(0, 0, 0, 0.3));\n",
              "      fill: #FFFFFF;\n",
              "    }\n",
              "  </style>\n",
              "\n",
              "      <script>\n",
              "        const buttonEl =\n",
              "          document.querySelector('#df-1446877c-109a-4ce5-b42c-937a1f4c52e7 button.colab-df-convert');\n",
              "        buttonEl.style.display =\n",
              "          google.colab.kernel.accessAllowed ? 'block' : 'none';\n",
              "\n",
              "        async function convertToInteractive(key) {\n",
              "          const element = document.querySelector('#df-1446877c-109a-4ce5-b42c-937a1f4c52e7');\n",
              "          const dataTable =\n",
              "            await google.colab.kernel.invokeFunction('convertToInteractive',\n",
              "                                                     [key], {});\n",
              "          if (!dataTable) return;\n",
              "\n",
              "          const docLinkHtml = 'Like what you see? Visit the ' +\n",
              "            '<a target=\"_blank\" href=https://colab.research.google.com/notebooks/data_table.ipynb>data table notebook</a>'\n",
              "            + ' to learn more about interactive tables.';\n",
              "          element.innerHTML = '';\n",
              "          dataTable['output_type'] = 'display_data';\n",
              "          await google.colab.output.renderOutput(dataTable, element);\n",
              "          const docLink = document.createElement('div');\n",
              "          docLink.innerHTML = docLinkHtml;\n",
              "          element.appendChild(docLink);\n",
              "        }\n",
              "      </script>\n",
              "    </div>\n",
              "  </div>\n",
              "  "
            ]
          },
          "metadata": {},
          "execution_count": 82
        }
      ]
    },
    {
      "cell_type": "code",
      "source": [
        "len(dev_df)"
      ],
      "metadata": {
        "colab": {
          "base_uri": "https://localhost:8080/"
        },
        "id": "IhOSXMntWLnX",
        "outputId": "594bec07-83ba-4a1c-c1e5-0e575e8c7afd"
      },
      "execution_count": null,
      "outputs": [
        {
          "output_type": "execute_result",
          "data": {
            "text/plain": [
              "5008"
            ]
          },
          "metadata": {},
          "execution_count": 103
        }
      ]
    },
    {
      "cell_type": "code",
      "source": [
        "len(train_df)"
      ],
      "metadata": {
        "colab": {
          "base_uri": "https://localhost:8080/"
        },
        "id": "v9Bar8LOWBD6",
        "outputId": "7009fa7a-0faa-44ae-8d16-a961b4afab60"
      },
      "execution_count": null,
      "outputs": [
        {
          "output_type": "execute_result",
          "data": {
            "text/plain": [
              "13058"
            ]
          },
          "metadata": {},
          "execution_count": 77
        }
      ]
    },
    {
      "cell_type": "code",
      "source": [
        "  dev_df.to_csv('raw_data_dev.csv', index=False)"
      ],
      "metadata": {
        "id": "cAD9FvRUQnA4"
      },
      "execution_count": null,
      "outputs": []
    },
    {
      "cell_type": "code",
      "source": [
        "  train_df.to_csv('raw_data_train.csv', index=False)"
      ],
      "metadata": {
        "id": "jY7X9-m1RjUG"
      },
      "execution_count": null,
      "outputs": []
    },
    {
      "cell_type": "code",
      "source": [
        "train_df.info()"
      ],
      "metadata": {
        "colab": {
          "base_uri": "https://localhost:8080/"
        },
        "id": "OgbxwN4bXpxb",
        "outputId": "6f3f1c82-bafa-4bfa-a253-17932d31b7ba"
      },
      "execution_count": null,
      "outputs": [
        {
          "output_type": "stream",
          "name": "stdout",
          "text": [
            "<class 'pandas.core.frame.DataFrame'>\n",
            "RangeIndex: 13058 entries, 0 to 13057\n",
            "Data columns (total 5 columns):\n",
            " #   Column      Non-Null Count  Dtype \n",
            "---  ------      --------------  ----- \n",
            " 0   id          13058 non-null  object\n",
            " 1   title       13058 non-null  object\n",
            " 2   content     13058 non-null  object\n",
            " 3   label       13058 non-null  int64 \n",
            " 4   label_text  13058 non-null  object\n",
            "dtypes: int64(1), object(4)\n",
            "memory usage: 510.2+ KB\n"
          ]
        }
      ]
    },
    {
      "cell_type": "code",
      "source": [
        "train_df.describe()"
      ],
      "metadata": {
        "colab": {
          "base_uri": "https://localhost:8080/",
          "height": 301
        },
        "id": "uTsj_89DXtqY",
        "outputId": "b6444fcd-60d9-4585-e886-67de215ed308"
      },
      "execution_count": null,
      "outputs": [
        {
          "output_type": "execute_result",
          "data": {
            "text/plain": [
              "              label\n",
              "count  13058.000000\n",
              "mean       1.124675\n",
              "std        0.799931\n",
              "min        0.000000\n",
              "25%        0.000000\n",
              "50%        1.000000\n",
              "75%        2.000000\n",
              "max        2.000000"
            ],
            "text/html": [
              "\n",
              "  <div id=\"df-1a474b57-9b6b-4fac-a66e-ff3f12d46066\">\n",
              "    <div class=\"colab-df-container\">\n",
              "      <div>\n",
              "<style scoped>\n",
              "    .dataframe tbody tr th:only-of-type {\n",
              "        vertical-align: middle;\n",
              "    }\n",
              "\n",
              "    .dataframe tbody tr th {\n",
              "        vertical-align: top;\n",
              "    }\n",
              "\n",
              "    .dataframe thead th {\n",
              "        text-align: right;\n",
              "    }\n",
              "</style>\n",
              "<table border=\"1\" class=\"dataframe\">\n",
              "  <thead>\n",
              "    <tr style=\"text-align: right;\">\n",
              "      <th></th>\n",
              "      <th>label</th>\n",
              "    </tr>\n",
              "  </thead>\n",
              "  <tbody>\n",
              "    <tr>\n",
              "      <th>count</th>\n",
              "      <td>13058.000000</td>\n",
              "    </tr>\n",
              "    <tr>\n",
              "      <th>mean</th>\n",
              "      <td>1.124675</td>\n",
              "    </tr>\n",
              "    <tr>\n",
              "      <th>std</th>\n",
              "      <td>0.799931</td>\n",
              "    </tr>\n",
              "    <tr>\n",
              "      <th>min</th>\n",
              "      <td>0.000000</td>\n",
              "    </tr>\n",
              "    <tr>\n",
              "      <th>25%</th>\n",
              "      <td>0.000000</td>\n",
              "    </tr>\n",
              "    <tr>\n",
              "      <th>50%</th>\n",
              "      <td>1.000000</td>\n",
              "    </tr>\n",
              "    <tr>\n",
              "      <th>75%</th>\n",
              "      <td>2.000000</td>\n",
              "    </tr>\n",
              "    <tr>\n",
              "      <th>max</th>\n",
              "      <td>2.000000</td>\n",
              "    </tr>\n",
              "  </tbody>\n",
              "</table>\n",
              "</div>\n",
              "      <button class=\"colab-df-convert\" onclick=\"convertToInteractive('df-1a474b57-9b6b-4fac-a66e-ff3f12d46066')\"\n",
              "              title=\"Convert this dataframe to an interactive table.\"\n",
              "              style=\"display:none;\">\n",
              "        \n",
              "  <svg xmlns=\"http://www.w3.org/2000/svg\" height=\"24px\"viewBox=\"0 0 24 24\"\n",
              "       width=\"24px\">\n",
              "    <path d=\"M0 0h24v24H0V0z\" fill=\"none\"/>\n",
              "    <path d=\"M18.56 5.44l.94 2.06.94-2.06 2.06-.94-2.06-.94-.94-2.06-.94 2.06-2.06.94zm-11 1L8.5 8.5l.94-2.06 2.06-.94-2.06-.94L8.5 2.5l-.94 2.06-2.06.94zm10 10l.94 2.06.94-2.06 2.06-.94-2.06-.94-.94-2.06-.94 2.06-2.06.94z\"/><path d=\"M17.41 7.96l-1.37-1.37c-.4-.4-.92-.59-1.43-.59-.52 0-1.04.2-1.43.59L10.3 9.45l-7.72 7.72c-.78.78-.78 2.05 0 2.83L4 21.41c.39.39.9.59 1.41.59.51 0 1.02-.2 1.41-.59l7.78-7.78 2.81-2.81c.8-.78.8-2.07 0-2.86zM5.41 20L4 18.59l7.72-7.72 1.47 1.35L5.41 20z\"/>\n",
              "  </svg>\n",
              "      </button>\n",
              "      \n",
              "  <style>\n",
              "    .colab-df-container {\n",
              "      display:flex;\n",
              "      flex-wrap:wrap;\n",
              "      gap: 12px;\n",
              "    }\n",
              "\n",
              "    .colab-df-convert {\n",
              "      background-color: #E8F0FE;\n",
              "      border: none;\n",
              "      border-radius: 50%;\n",
              "      cursor: pointer;\n",
              "      display: none;\n",
              "      fill: #1967D2;\n",
              "      height: 32px;\n",
              "      padding: 0 0 0 0;\n",
              "      width: 32px;\n",
              "    }\n",
              "\n",
              "    .colab-df-convert:hover {\n",
              "      background-color: #E2EBFA;\n",
              "      box-shadow: 0px 1px 2px rgba(60, 64, 67, 0.3), 0px 1px 3px 1px rgba(60, 64, 67, 0.15);\n",
              "      fill: #174EA6;\n",
              "    }\n",
              "\n",
              "    [theme=dark] .colab-df-convert {\n",
              "      background-color: #3B4455;\n",
              "      fill: #D2E3FC;\n",
              "    }\n",
              "\n",
              "    [theme=dark] .colab-df-convert:hover {\n",
              "      background-color: #434B5C;\n",
              "      box-shadow: 0px 1px 3px 1px rgba(0, 0, 0, 0.15);\n",
              "      filter: drop-shadow(0px 1px 2px rgba(0, 0, 0, 0.3));\n",
              "      fill: #FFFFFF;\n",
              "    }\n",
              "  </style>\n",
              "\n",
              "      <script>\n",
              "        const buttonEl =\n",
              "          document.querySelector('#df-1a474b57-9b6b-4fac-a66e-ff3f12d46066 button.colab-df-convert');\n",
              "        buttonEl.style.display =\n",
              "          google.colab.kernel.accessAllowed ? 'block' : 'none';\n",
              "\n",
              "        async function convertToInteractive(key) {\n",
              "          const element = document.querySelector('#df-1a474b57-9b6b-4fac-a66e-ff3f12d46066');\n",
              "          const dataTable =\n",
              "            await google.colab.kernel.invokeFunction('convertToInteractive',\n",
              "                                                     [key], {});\n",
              "          if (!dataTable) return;\n",
              "\n",
              "          const docLinkHtml = 'Like what you see? Visit the ' +\n",
              "            '<a target=\"_blank\" href=https://colab.research.google.com/notebooks/data_table.ipynb>data table notebook</a>'\n",
              "            + ' to learn more about interactive tables.';\n",
              "          element.innerHTML = '';\n",
              "          dataTable['output_type'] = 'display_data';\n",
              "          await google.colab.output.renderOutput(dataTable, element);\n",
              "          const docLink = document.createElement('div');\n",
              "          docLink.innerHTML = docLinkHtml;\n",
              "          element.appendChild(docLink);\n",
              "        }\n",
              "      </script>\n",
              "    </div>\n",
              "  </div>\n",
              "  "
            ]
          },
          "metadata": {},
          "execution_count": 85
        }
      ]
    },
    {
      "cell_type": "code",
      "source": [
        "train_df = pd.read_csv(\"/content/drive/MyDrive/713 - Pattern /CLEF2023/task_3A/data/task_3A/raw_data_train.csv\")\n",
        "dev_df = pd.read_csv(\"/content/drive/MyDrive/713 - Pattern /CLEF2023/task_3A/data/task_3A/raw_data.csv\")"
      ],
      "metadata": {
        "id": "y7dI1EK_nlfU"
      },
      "execution_count": null,
      "outputs": []
    },
    {
      "cell_type": "code",
      "source": [
        "import numpy as np\n",
        "import matplotlib.pyplot as plt"
      ],
      "metadata": {
        "id": "mzWs9wmtYK6p"
      },
      "execution_count": null,
      "outputs": []
    },
    {
      "cell_type": "code",
      "source": [
        "g=train_df.groupby(\"label\")[\"label_text\"].count()\n",
        "temp_dict=g.to_dict()\n",
        "\n",
        "fig = plt.figure(figsize=(15,7))\n",
        "labels = list(temp_dict.keys())\n",
        "values = list(temp_dict.values())\n",
        "\n",
        "\n",
        "plt.pie(values,  labels=labels,autopct='%1.0f%%',shadow=True,colors=sns.color_palette('Set2'))\n",
        "plt.legend(labels,loc='best',bbox_to_anchor=(1.5, 1.0))\n",
        "plt.title(\"Dataset distribution of each class\")\n",
        "plt.show()\n",
        "\n",
        "#0 - left\n",
        "#1 -centre\n",
        "#2 - right"
      ],
      "metadata": {
        "colab": {
          "base_uri": "https://localhost:8080/",
          "height": 598
        },
        "id": "G060419hXwLp",
        "outputId": "7d970417-1158-435d-e7b4-921ff08ee168"
      },
      "execution_count": null,
      "outputs": [
        {
          "output_type": "display_data",
          "data": {
            "text/plain": [
              "<Figure size 1500x700 with 1 Axes>"
            ],
            "image/png": "[encoded data removed]"
          },
          "metadata": {}
        }
      ]
    },
    {
      "cell_type": "code",
      "source": [
        "dev_plt=dev_df.groupby(\"label\")[\"label_text\"].count()\n",
        "temp_dict=dev_plt.to_dict()\n",
        "\n",
        "fig = plt.figure(figsize=(15,7))\n",
        "labels = list(temp_dict.keys())\n",
        "values = list(temp_dict.values())\n",
        "\n",
        "\n",
        "plt.pie(values,  labels=labels,autopct='%1.0f%%',shadow=True,colors=sns.color_palette('Set2'))\n",
        "plt.legend(labels,loc='best',bbox_to_anchor=(1.5, 1.0))\n",
        "plt.title(\"Dataset distribution of each class\")\n",
        "plt.show()"
      ],
      "metadata": {
        "colab": {
          "base_uri": "https://localhost:8080/",
          "height": 598
        },
        "id": "fMOCKUo6aoxr",
        "outputId": "2be0d7ce-20d4-49e2-f892-998ce2859bd5"
      },
      "execution_count": null,
      "outputs": [
        {
          "output_type": "display_data",
          "data": {
            "text/plain": [
              "<Figure size 1500x700 with 1 Axes>"
            ],
            "image/png": "[encoded data removed]"
          },
          "metadata": {}
        }
      ]
    },
    {
      "cell_type": "code",
      "source": [
        "print(train_df.label.value_counts())\n",
        "print(dev_df.label.value_counts())"
      ],
      "metadata": {
        "colab": {
          "base_uri": "https://localhost:8080/"
        },
        "id": "HgXO9AJXpVfG",
        "outputId": "73bf569a-0161-4495-8487-83fa158b3aac"
      },
      "execution_count": null,
      "outputs": [
        {
          "output_type": "stream",
          "name": "stdout",
          "text": [
            "2    5093\n",
            "1    4500\n",
            "0    3465\n",
            "Name: label, dtype: int64\n",
            "2    1949\n",
            "1    1717\n",
            "0    1342\n",
            "Name: label, dtype: int64\n"
          ]
        }
      ]
    },
    {
      "cell_type": "markdown",
      "source": [
        "##Implementations"
      ],
      "metadata": {
        "id": "BcRuFnB2a4YD"
      }
    },
    {
      "cell_type": "code",
      "source": [
        "import tensorflow as tf\n",
        "from tensorflow.keras.preprocessing.text import Tokenizer\n",
        "from tensorflow.keras.preprocessing.sequence import pad_sequences\n",
        "from tensorflow.keras.layers import Dense, Input, LSTM, Embedding, Conv1D, concatenate, Flatten, Concatenate\n",
        "from tensorflow.keras.layers import  BatchNormalization, Dropout, Activation, SpatialDropout1D, MaxPooling1D, GlobalAveragePooling1D, GlobalMaxPooling1D\n",
        "from tensorflow.keras.layers import Bidirectional, GlobalMaxPool1D\n",
        "from tensorflow.keras.models import Model\n",
        "from tensorflow.keras import initializers, regularizers, constraints, optimizers, layers\n",
        "\n",
        "from sklearn.metrics import hamming_loss\n",
        "from sklearn.metrics import recall_score\n",
        "from sklearn.metrics import precision_score\n",
        "from sklearn.metrics import f1_score"
      ],
      "metadata": {
        "id": "wUQuD9XSa38j"
      },
      "execution_count": null,
      "outputs": []
    },
    {
      "cell_type": "code",
      "source": [],
      "metadata": {
        "id": "Q7uHbYk7VP0K"
      },
      "execution_count": null,
      "outputs": []
    }
  ],
  "metadata": {
    "colab": {
      "provenance": []
    },
    "kernelspec": {
      "display_name": "Python 3",
      "name": "python3"
    },
    "language_info": {
      "name": "python"
    }
  },
  "nbformat": 4,
  "nbformat_minor": 0
}